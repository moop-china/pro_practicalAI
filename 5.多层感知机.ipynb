{
 "cells": [
  {
   "cell_type": "markdown",
   "metadata": {
    "colab_type": "text",
    "id": "OLIxEDq6VhvZ",
    "mdEditEnable": false
   },
   "source": [
    "## 多层感知机 Multilayer Perceptron (MLP)\n",
    "\n",
    "<img src=\"data/logo.png\" alt=\"Drawing\" style=\"width: 300px;\"/>\n",
    "\n",
    "在这个课程项目中我们将会探索学习最基本的神经网络: 多层感知机。然后用PyTorch实现\n",
    "\n",
    "**注意**: 这个项目只是用PyTorch实现多层感知机的基础，所以为了保持教程的简洁我们不会介绍过多的机器学习必要步骤(比如划分训练集测试集时的类平衡，验证集，early stopping)。我们会在下节课学到这些最佳实践。"
   ]
  },
  {
   "cell_type": "markdown",
   "metadata": {
    "colab_type": "text",
    "id": "qWro5T5qTJJL",
    "mdEditEnable": false
   },
   "source": [
    "## Overview\n",
    "\n",
    "\n",
    "<img src=\"data/mlp.png\" alt=\"Drawing\" style=\"width: 400px;\"/>\n",
    "\n",
    "~$z_2 = XW_1~$\n",
    "\n",
    "~$a_2 = f(z_2)~$\n",
    "\n",
    "~$z_3 = a_2W_2~$\n",
    "\n",
    "~$\\hat{y} = softmax(z_3)~$ # 分类\n",
    "\n",
    "*其中*:\n",
    "* ~$X~$ = 输入 | ~$\\in \\mathbb{R}^{NXD}~$ (~$D~$ 特征数量)\n",
    "* ~$W_1~$ = 第一层的权重 | ~$\\in \\mathbb{R}^{DXH}~$ (~$H~$ 第一层的隐藏单元数)\n",
    "* ~$z_2~$ = 第一层网络的输出  ~$\\in \\mathbb{R}^{NXH}~$\n",
    "* ~$f~$ = 非线性激活函数\n",
    "* ~$a_2~$ = 通过激活函数后的第一层输出 | ~$\\in \\mathbb{R}^{NXH}~$\n",
    "* ~$W_2~$ = 第二层权重 | ~$\\in \\mathbb{R}^{HXC}~$ (~$C~$ is 分类类别数)\n",
    "* ~$\\hat{y}~$ = 预测值 | ~$\\in \\mathbb{R}^{NXC}~$ (~$N~$ 样本个数)\n",
    "\n",
    "这是一个简单的二层多层感知机\n",
    "\n",
    "* **目标:** 给定输入 ~$X~$, 预测它属于类别 ~$y~$ 的概率。非线性激活函数的使用后可以帮助训练复杂，非线性的数据。\n",
    "* **优点:**\n",
    "\t* 在非线性数据上表现非常好\n",
    "* **缺点:**\n",
    "\t* 容易过拟合\n",
    "\t* 计算复杂度和网络复杂度成正比\n",
    "\t* 可解释性不强\n",
    "* **其它:** 未来我们会接触的神经网络会使用MLP作为向前传播得模块 (非线性操作后的仿射变换affine transformation(XW))"
   ]
  },
  {
   "cell_type": "markdown",
   "metadata": {
    "colab_type": "text",
    "id": "kfi_YArvjzrg",
    "mdEditEnable": false
   },
   "source": [
    "## 训练\n",
    "\n",
    "*步骤* :\n",
    "\n",
    "1. 随机初始化模型权重~$W~$ (我们以后会对更有效的初始化权重策略做介绍)\n",
    "2. 将输入值~$X~$传入模型进行向前传播，得到结果概率\n",
    "3. 使用损失函数计算预测值 ~$\\hat{y}~$ (比如 [0.3, 0.3, 0.4]) 和实际值 ~$y~$ (比如[0, 0, 1])的差，得到损失值 ~$J~$ 常用的逻辑回归损失函数是交叉熵函数。\n",
    "  * ~$z_2 = XW_1~$\n",
    "  * ~$a_2 = max(0, z_2)~$ # 使用ReLU激活函数\n",
    "  * ~$z_3 = a_2W_2~$\n",
    "  * ~$\\hat{y} = softmax(z_3)~$\n",
    "  * ~$J(\\theta) = - \\sum_i y_i ln (\\hat{y_i})~$\n",
    "4. 根据模型权重计算损失梯度 ~$J(\\theta)~$\n",
    "   * ~$\\frac{\\partial{J}}{\\partial{W_{2j}}} = a_2\\hat{y}, \\frac{\\partial{J}}{\\partial{W_{2y}}} = a_2(\\hat{y}-1)~$\n",
    "   * ~$\\frac{\\partial{J}}{\\partial{W_1}} = \\frac{\\partial{J}}{\\partial{\\hat{y}}} \\frac{\\partial{\\hat{y}}}{\\partial{a_2}}  \\frac{\\partial{a_2}}{\\partial{z_2}}  \\frac{\\partial{z_2}}{\\partial{W_1}}  = W_2(\\partial{scores})(\\partial{ReLU})X~$\n",
    "   \n",
    "5. 使用梯度下降做反向传播来更新模型权重。更新后的权重将会使得输出不正确的结果 ~$j~$ 的概率降低, 从而提高输出正确类别 ~$y~$ 的概率\n",
    "  * ~$W_i = W_i - \\alpha\\frac{\\partial{J}}{\\partial{W_i}}~$\n",
    "6. 重复2 - 4步直到模型的表现最好."
   ]
  },
  {
   "cell_type": "markdown",
   "metadata": {
    "colab_type": "text",
    "id": "X3OrtMpFayFC",
    "mdEditEnable": false
   },
   "source": [
    "## 数据\n",
    "先生成一些非线性数据来做分类任务。"
   ]
  },
  {
   "cell_type": "code",
   "execution_count": 12,
   "metadata": {
    "colab": {},
    "colab_type": "code",
    "id": "pvkfS3JZOMgB",
    "scrolled": true
   },
   "outputs": [
    {
     "name": "stdout",
     "output_type": "stream",
     "text": [
      "Looking in indexes: https://pypi.tuna.tsinghua.edu.cn/simple\n",
      "Requirement already up-to-date: torch in d:\\users\\i9233\\anaconda3\\lib\\site-packages (1.0.1)\n",
      "Requirement already up-to-date: torchvision in d:\\users\\i9233\\anaconda3\\lib\\site-packages (0.2.2.post3)\n",
      "Requirement already satisfied, skipping upgrade: pillow>=4.1.1 in d:\\users\\i9233\\anaconda3\\lib\\site-packages (from torchvision) (5.3.0)\n",
      "Requirement already satisfied, skipping upgrade: numpy in d:\\users\\i9233\\anaconda3\\lib\\site-packages (from torchvision) (1.15.4)\n",
      "Requirement already satisfied, skipping upgrade: six in d:\\users\\i9233\\anaconda3\\lib\\site-packages (from torchvision) (1.12.0)\n"
     ]
    }
   ],
   "source": [
    "# 安装Pytorch\n",
    "!pip install torch torchvision --upgrade -i https://pypi.tuna.tsinghua.edu.cn/simple"
   ]
  },
  {
   "cell_type": "code",
   "execution_count": 13,
   "metadata": {
    "colab": {},
    "colab_type": "code",
    "id": "9NfIz_4OPYpG",
    "scrolled": false
   },
   "outputs": [],
   "source": [
    "from argparse import Namespace\n",
    "import matplotlib.pyplot as plt\n",
    "import numpy as np\n",
    "import random\n",
    "import torch"
   ]
  },
  {
   "cell_type": "code",
   "execution_count": 14,
   "metadata": {
    "colab": {},
    "colab_type": "code",
    "id": "cdcWUP-tTHj0",
    "scrolled": false
   },
   "outputs": [],
   "source": [
    "# 参数\n",
    "args = Namespace(\n",
    "    seed=1234,\n",
    "    num_samples_per_class=500,\n",
    "    dimensions=2,\n",
    "    num_classes=3,\n",
    "    train_size=0.75,\n",
    "    test_size=0.25,\n",
    "    num_hidden_units=100,\n",
    "    learning_rate=1e-0,\n",
    "    regularization=1e-3,\n",
    "    num_epochs=200,\n",
    ")\n",
    "\n",
    "# 设置随机种子来保证结果可复现\n",
    "np.random.seed(args.seed)"
   ]
  },
  {
   "cell_type": "code",
   "execution_count": 15,
   "metadata": {
    "colab": {},
    "colab_type": "code",
    "id": "K2O38IuNayR5",
    "scrolled": false
   },
   "outputs": [],
   "source": [
    "# 生成非线性数据\n",
    "def generate_data(num_samples_per_class, dimensions, num_classes):\n",
    "    # 生成螺旋状数据\n",
    "    X_original = np.zeros((num_samples_per_class*num_classes, dimensions))\n",
    "    y = np.zeros(num_samples_per_class*num_classes, dtype='uint8')\n",
    "    for j in range(num_classes):\n",
    "        ix = range(num_samples_per_class*j,num_samples_per_class*(j+1))\n",
    "        r = np.linspace(0.0,1,num_samples_per_class) # radius\n",
    "        t = np.linspace(j*4,(j+1)*4,num_samples_per_class) + \\\n",
    "        np.random.randn(num_samples_per_class)*0.2 # theta\n",
    "        X_original[ix] = np.c_[r*np.sin(t), r*np.cos(t)]\n",
    "        y[ix] = j\n",
    "\n",
    "    X = np.hstack([X_original])\n",
    "\n",
    "    return X, y"
   ]
  },
  {
   "cell_type": "code",
   "execution_count": 16,
   "metadata": {
    "colab": {
     "base_uri": "https://localhost:8080/",
     "height": 51
    },
    "colab_type": "code",
    "id": "q14QCqKxUS2v",
    "outputId": "78bc9bff-0db3-41ee-8297-7377c20809a8",
    "scrolled": false
   },
   "outputs": [
    {
     "name": "stdout",
     "output_type": "stream",
     "text": [
      "X: (1500, 2)\n",
      "y: (1500,)\n"
     ]
    }
   ],
   "source": [
    "# 生成 X 和 y\n",
    "X, y = generate_data(num_samples_per_class=args.num_samples_per_class, \n",
    "                     dimensions=args.dimensions, num_classes=args.num_classes)\n",
    "print (\"X: {0}\".format(np.shape(X)))\n",
    "print (\"y: {0}\".format(np.shape(y)))"
   ]
  },
  {
   "cell_type": "code",
   "execution_count": 17,
   "metadata": {
    "colab": {
     "base_uri": "https://localhost:8080/",
     "height": 362
    },
    "colab_type": "code",
    "id": "jgVjStv8VnX2",
    "outputId": "5eb7823c-34fd-4587-b9f0-c24f7e06d2dd",
    "scrolled": false
   },
   "outputs": [
    {
     "data": {
      "image/png": "[encoded data removed]",
      "text/plain": [
       "<Figure size 432x288 with 1 Axes>"
      ]
     },
     "metadata": {
      "needs_background": "light"
     },
     "output_type": "display_data"
    }
   ],
   "source": [
    "# 可视化\n",
    "plt.title(\"Generated non-linear data\")\n",
    "plt.scatter(X[:, 0], X[:, 1], c=y, s=25, cmap=plt.cm.Spectral)\n",
    "plt.show()"
   ]
  },
  {
   "cell_type": "code",
   "execution_count": 18,
   "metadata": {
    "colab": {},
    "colab_type": "code",
    "id": "2XImjkyN1MZn",
    "scrolled": false
   },
   "outputs": [],
   "source": [
    "# 转换为PyTorch tensor\n",
    "X = torch.from_numpy(X).float()\n",
    "y = torch.from_numpy(y).long()"
   ]
  },
  {
   "cell_type": "code",
   "execution_count": 19,
   "metadata": {
    "colab": {
     "base_uri": "https://localhost:8080/",
     "height": 34
    },
    "colab_type": "code",
    "id": "gGFqcqTDXhkl",
    "outputId": "4b9f6fd1-3d85-4015-d53f-eb89daad04a7",
    "scrolled": false
   },
   "outputs": [
    {
     "name": "stdout",
     "output_type": "stream",
     "text": [
      "We have 1125 train samples and 375 test samples.\n"
     ]
    }
   ],
   "source": [
    "# 打乱数据\n",
    "shuffle_indicies = torch.LongTensor(random.sample(range(0, len(X)), len(X)))\n",
    "X = X[shuffle_indicies]\n",
    "y = y[shuffle_indicies]\n",
    "\n",
    "# 切分训练集测试集\n",
    "test_start_idx = int(len(X) * args.train_size)\n",
    "X_train = X[:test_start_idx] \n",
    "y_train = y[:test_start_idx] \n",
    "X_test = X[test_start_idx:] \n",
    "y_test = y[test_start_idx:]\n",
    "print(\"We have %i train samples and %i test samples.\" % (len(X_train), len(X_test)))"
   ]
  },
  {
   "cell_type": "markdown",
   "metadata": {
    "colab_type": "text",
    "id": "DlVmr5XkRMCf",
    "mdEditEnable": false
   },
   "source": [
    "## 线性模型\n",
    "\n",
    "在构建神经网络之前，我们先来看看为什么线性模型在这次生成的数据上表现不会很好。"
   ]
  },
  {
   "cell_type": "code",
   "execution_count": 20,
   "metadata": {
    "colab": {},
    "colab_type": "code",
    "id": "qja6kvBrRKDj",
    "scrolled": false
   },
   "outputs": [],
   "source": [
    "import torch\n",
    "import torch.nn as nn\n",
    "import torch.nn.functional as F\n",
    "import torch.optim as optim\n",
    "from torch.utils.data import Dataset, DataLoader\n",
    "from tqdm import tqdm_notebook"
   ]
  },
  {
   "cell_type": "code",
   "execution_count": 21,
   "metadata": {
    "colab": {},
    "colab_type": "code",
    "id": "5AdXiZ8ORKGS",
    "scrolled": false
   },
   "outputs": [],
   "source": [
    "# 线性模型\n",
    "class LogisticClassifier(nn.Module):\n",
    "    def __init__(self, input_dim, hidden_dim, output_dim):\n",
    "        super(LogisticClassifier, self).__init__()\n",
    "        self.fc1 = nn.Linear(input_dim, hidden_dim)\n",
    "        self.fc2 = nn.Linear(hidden_dim, output_dim)\n",
    "\n",
    "    def forward(self, x_in, apply_softmax=False):\n",
    "        a_1 = self.fc1(x_in)\n",
    "        y_pred = self.fc2(a_1)\n",
    "\n",
    "        if apply_softmax:\n",
    "            y_pred = F.softmax(y_pred, dim=1)\n",
    "\n",
    "        return y_pred"
   ]
  },
  {
   "cell_type": "code",
   "execution_count": 22,
   "metadata": {
    "colab": {
     "base_uri": "https://localhost:8080/",
     "height": 85
    },
    "colab_type": "code",
    "id": "ApoN49qmRhl5",
    "outputId": "0d06b9d4-3a94-4c45-81a1-d6d302734714",
    "scrolled": false
   },
   "outputs": [
    {
     "name": "stdout",
     "output_type": "stream",
     "text": [
      "<bound method Module.named_modules of LogisticClassifier(\n",
      "  (fc1): Linear(in_features=2, out_features=100, bias=True)\n",
      "  (fc2): Linear(in_features=100, out_features=3, bias=True)\n",
      ")>\n"
     ]
    }
   ],
   "source": [
    "# 初始化模型\n",
    "model = LogisticClassifier(input_dim=args.dimensions, \n",
    "                           hidden_dim=args.num_hidden_units, \n",
    "                           output_dim=args.num_classes)\n",
    "print (model.named_modules)"
   ]
  },
  {
   "cell_type": "code",
   "execution_count": 23,
   "metadata": {
    "colab": {},
    "colab_type": "code",
    "id": "1ksXe8ruRhoh",
    "scrolled": false
   },
   "outputs": [],
   "source": [
    "# 优化\n",
    "loss_fn = nn.CrossEntropyLoss()\n",
    "optimizer = optim.Adam(model.parameters(), lr=args.learning_rate) # Adam optimizer (usually better than SGD)"
   ]
  },
  {
   "cell_type": "code",
   "execution_count": 24,
   "metadata": {
    "colab": {},
    "colab_type": "code",
    "id": "bt3kwn_3kso9",
    "scrolled": false
   },
   "outputs": [],
   "source": [
    "# 准确率\n",
    "def get_accuracy(y_pred, y_target):\n",
    "    n_correct = torch.eq(y_pred, y_target).sum().item()\n",
    "    accuracy = n_correct / len(y_pred) * 100\n",
    "    return accuracy"
   ]
  },
  {
   "cell_type": "code",
   "execution_count": 25,
   "metadata": {
    "colab": {
     "base_uri": "https://localhost:8080/",
     "height": 187
    },
    "colab_type": "code",
    "id": "cpo8c46ERhrS",
    "outputId": "06927f18-a3f3-4738-e94c-32b32fc3fd45",
    "scrolled": false
   },
   "outputs": [
    {
     "name": "stdout",
     "output_type": "stream",
     "text": [
      "epoch: 00 | loss: 1.1234 | acc: 34.1%\n",
      "epoch: 20 | loss: 13.4347 | acc: 53.3%\n",
      "epoch: 40 | loss: 4.7009 | acc: 58.2%\n",
      "epoch: 60 | loss: 1.2234 | acc: 48.2%\n",
      "epoch: 80 | loss: 0.7776 | acc: 52.9%\n",
      "epoch: 100 | loss: 0.7405 | acc: 53.6%\n",
      "epoch: 120 | loss: 0.7352 | acc: 53.5%\n",
      "epoch: 140 | loss: 0.7348 | acc: 52.8%\n",
      "epoch: 160 | loss: 0.7347 | acc: 53.0%\n",
      "epoch: 180 | loss: 0.7347 | acc: 52.8%\n"
     ]
    }
   ],
   "source": [
    "# 训俩\n",
    "for t in range(args.num_epochs):\n",
    "    # 向前传播\n",
    "    y_pred = model(X_train)\n",
    "    \n",
    "    # 准确率\n",
    "    _, predictions = y_pred.max(dim=1)\n",
    "    accuracy = get_accuracy(y_pred=predictions.long(), y_target=y_train)\n",
    "\n",
    "    # 损失\n",
    "    loss = loss_fn(y_pred, y_train)\n",
    "    \n",
    "    # Verbose\n",
    "    if t%20==0: \n",
    "        print (\"epoch: {0:02d} | loss: {1:.4f} | acc: {2:.1f}%\".format(\n",
    "            t, loss, accuracy))\n",
    "\n",
    "    # 梯度归零\n",
    "    optimizer.zero_grad()\n",
    "\n",
    "    # 反向传播\n",
    "    loss.backward()\n",
    "\n",
    "    # 更新权重\n",
    "    optimizer.step()"
   ]
  },
  {
   "cell_type": "code",
   "execution_count": 26,
   "metadata": {
    "colab": {},
    "colab_type": "code",
    "id": "ZthV18sPRhto",
    "scrolled": false
   },
   "outputs": [],
   "source": [
    "# 预测\n",
    "_, pred_train = model(X_train, apply_softmax=True).max(dim=1)\n",
    "_, pred_test = model(X_test, apply_softmax=True).max(dim=1)"
   ]
  },
  {
   "cell_type": "code",
   "execution_count": 27,
   "metadata": {
    "colab": {
     "base_uri": "https://localhost:8080/",
     "height": 34
    },
    "colab_type": "code",
    "id": "ZjKHD3zXbb0I",
    "outputId": "f6e04324-9582-4a5f-f7c9-fe5e44181126",
    "scrolled": false
   },
   "outputs": [
    {
     "name": "stdout",
     "output_type": "stream",
     "text": [
      "train acc: 52.8%, test acc: 53.3%\n"
     ]
    }
   ],
   "source": [
    "# 训练集和测试集上的准确率\n",
    "train_acc = get_accuracy(y_pred=pred_train, y_target=y_train)\n",
    "test_acc = get_accuracy(y_pred=pred_test, y_target=y_test)\n",
    "print (\"train acc: {0:.1f}%, test acc: {1:.1f}%\".format(train_acc, test_acc))"
   ]
  },
  {
   "cell_type": "code",
   "execution_count": 28,
   "metadata": {
    "colab": {},
    "colab_type": "code",
    "id": "7hsn8zbxRh09",
    "scrolled": false
   },
   "outputs": [],
   "source": [
    "# 可视化\n",
    "def plot_multiclass_decision_boundary(model, X, y):\n",
    "    x_min, x_max = X[:, 0].min() - 0.1, X[:, 0].max() + 0.1\n",
    "    y_min, y_max = X[:, 1].min() - 0.1, X[:, 1].max() + 0.1\n",
    "    xx, yy = np.meshgrid(np.linspace(x_min, x_max, 101), np.linspace(y_min, y_max, 101))\n",
    "    cmap = plt.cm.Spectral\n",
    "    \n",
    "    X_test = torch.from_numpy(np.c_[xx.ravel(), yy.ravel()]).float()\n",
    "    y_pred = model(X_test, apply_softmax=True)\n",
    "    _, y_pred = y_pred.max(dim=1)\n",
    "    y_pred = y_pred.reshape(xx.shape)\n",
    "    plt.contourf(xx, yy, y_pred, cmap=plt.cm.Spectral, alpha=0.8)\n",
    "    plt.scatter(X[:, 0], X[:, 1], c=y, s=40, cmap=plt.cm.RdYlBu)\n",
    "    plt.xlim(xx.min(), xx.max())\n",
    "    plt.ylim(yy.min(), yy.max())"
   ]
  },
  {
   "cell_type": "code",
   "execution_count": 29,
   "metadata": {
    "colab": {
     "base_uri": "https://localhost:8080/",
     "height": 335
    },
    "colab_type": "code",
    "id": "5u5fEhOcRh3V",
    "outputId": "9ebec4e7-f6f1-487c-b451-9493ffd138d9",
    "scrolled": false
   },
   "outputs": [
    {
     "data": {
      "image/png": "[encoded data removed]",
      "text/plain": [
       "<Figure size 864x360 with 2 Axes>"
      ]
     },
     "metadata": {
      "needs_background": "light"
     },
     "output_type": "display_data"
    }
   ],
   "source": [
    "# 可视化决策边界\n",
    "plt.figure(figsize=(12,5))\n",
    "plt.subplot(1, 2, 1)\n",
    "plt.title(\"Train\")\n",
    "plot_multiclass_decision_boundary(model=model, X=X_train, y=y_train)\n",
    "plt.subplot(1, 2, 2)\n",
    "plt.title(\"Test\")\n",
    "plot_multiclass_decision_boundary(model=model, X=X_test, y=y_test)\n",
    "plt.show()"
   ]
  },
  {
   "cell_type": "code",
   "execution_count": 30,
   "metadata": {
    "colab": {},
    "colab_type": "code",
    "id": "llXUlx5bRKJB",
    "scrolled": false
   },
   "outputs": [],
   "source": [
    "import itertools\n",
    "from sklearn.metrics import classification_report, confusion_matrix"
   ]
  },
  {
   "cell_type": "code",
   "execution_count": 31,
   "metadata": {
    "colab": {},
    "colab_type": "code",
    "id": "NC9Hqrl7RxVr",
    "scrolled": false
   },
   "outputs": [],
   "source": [
    "# 画出混淆矩阵\n",
    "def plot_confusion_matrix(cm, classes):\n",
    "    cmap=plt.cm.Blues\n",
    "    plt.imshow(cm, interpolation='nearest', cmap=cmap)\n",
    "    plt.title(\"Confusion Matrix\")\n",
    "    plt.colorbar()\n",
    "    tick_marks = np.arange(len(classes))\n",
    "    plt.xticks(tick_marks, classes, rotation=45)\n",
    "    plt.yticks(tick_marks, classes)\n",
    "    plt.grid(False)\n",
    "\n",
    "    fmt = 'd'\n",
    "    thresh = cm.max() / 2.\n",
    "    for i, j in itertools.product(range(cm.shape[0]), range(cm.shape[1])):\n",
    "        plt.text(j, i, format(cm[i, j], 'd'), horizontalalignment=\"center\", \n",
    "                 color=\"white\" if cm[i, j] > thresh else \"black\")\n",
    "\n",
    "    plt.ylabel('True label')\n",
    "    plt.xlabel('Predicted label')\n",
    "    plt.tight_layout()"
   ]
  },
  {
   "cell_type": "code",
   "execution_count": 32,
   "metadata": {
    "colab": {
     "base_uri": "https://localhost:8080/",
     "height": 537
    },
    "colab_type": "code",
    "id": "tlwsKnBhRxYH",
    "outputId": "26622315-45e5-44dc-8a2c-0896289eae18",
    "scrolled": false
   },
   "outputs": [
    {
     "name": "stdout",
     "output_type": "stream",
     "text": [
      "              precision    recall  f1-score   support\n",
      "\n",
      "           0       0.51      0.60      0.55       119\n",
      "           1       0.55      0.59      0.57       116\n",
      "           2       0.55      0.43      0.48       140\n",
      "\n",
      "   micro avg       0.53      0.53      0.53       375\n",
      "   macro avg       0.53      0.54      0.53       375\n",
      "weighted avg       0.54      0.53      0.53       375\n",
      "\n"
     ]
    },
    {
     "data": {
      "image/png": "[encoded data removed]",
      "text/plain": [
       "<Figure size 432x288 with 2 Axes>"
      ]
     },
     "metadata": {
      "needs_background": "light"
     },
     "output_type": "display_data"
    }
   ],
   "source": [
    "# 混淆矩阵\n",
    "cm = confusion_matrix(y_test, pred_test)\n",
    "plot_confusion_matrix(cm=cm, classes=[0, 1, 2])\n",
    "print (classification_report(y_test, pred_test))"
   ]
  },
  {
   "cell_type": "markdown",
   "metadata": {
    "colab_type": "text",
    "id": "YexKO17makzj",
    "mdEditEnable": false
   },
   "source": [
    "## 非线性模型\n",
    "\n",
    "\n",
    "现在我们来看看多层感知机的性能。注意这里唯一的区别是我们添加了非线性激活函数(用了ReLU, 它就是简单的 ~$max(0, z))~$)"
   ]
  },
  {
   "cell_type": "code",
   "execution_count": 33,
   "metadata": {
    "colab": {},
    "colab_type": "code",
    "id": "-U0_3Xco0Q4g",
    "scrolled": false
   },
   "outputs": [],
   "source": [
    "# MLP\n",
    "class MLP(nn.Module):\n",
    "    def __init__(self, input_dim, hidden_dim, output_dim):\n",
    "        super(MLP, self).__init__()\n",
    "        self.fc1 = nn.Linear(input_dim, hidden_dim)\n",
    "        self.fc2 = nn.Linear(hidden_dim, output_dim)\n",
    "\n",
    "    def forward(self, x_in, apply_softmax=False):\n",
    "        a_1 = F.relu(self.fc1(x_in)) # activaton function added!\n",
    "        y_pred = self.fc2(a_1)\n",
    "\n",
    "        if apply_softmax:\n",
    "            y_pred = F.softmax(y_pred, dim=1)\n",
    "\n",
    "        return y_pred"
   ]
  },
  {
   "cell_type": "code",
   "execution_count": 34,
   "metadata": {
    "colab": {
     "base_uri": "https://localhost:8080/",
     "height": 85
    },
    "colab_type": "code",
    "id": "V-8S6w1njkDC",
    "outputId": "5ed4037a-7116-4f86-c989-906a8605bad2",
    "scrolled": false
   },
   "outputs": [
    {
     "name": "stdout",
     "output_type": "stream",
     "text": [
      "<bound method Module.named_modules of MLP(\n",
      "  (fc1): Linear(in_features=2, out_features=100, bias=True)\n",
      "  (fc2): Linear(in_features=100, out_features=3, bias=True)\n",
      ")>\n"
     ]
    }
   ],
   "source": [
    "# 初始化模型\n",
    "model = MLP(input_dim=args.dimensions, \n",
    "            hidden_dim=args.num_hidden_units, \n",
    "            output_dim=args.num_classes)\n",
    "print (model.named_modules)"
   ]
  },
  {
   "cell_type": "code",
   "execution_count": 35,
   "metadata": {
    "colab": {},
    "colab_type": "code",
    "id": "YtZvQVVpvl5p",
    "scrolled": false
   },
   "outputs": [],
   "source": [
    "# 优化\n",
    "loss_fn = nn.CrossEntropyLoss()\n",
    "optimizer = optim.Adam(model.parameters(), lr=args.learning_rate)"
   ]
  },
  {
   "cell_type": "code",
   "execution_count": 36,
   "metadata": {
    "colab": {
     "base_uri": "https://localhost:8080/",
     "height": 187
    },
    "colab_type": "code",
    "id": "nmeU45XF0O-U",
    "outputId": "90bf9112-a477-437a-d65a-b59349498b20",
    "scrolled": false
   },
   "outputs": [
    {
     "name": "stdout",
     "output_type": "stream",
     "text": [
      "epoch: 00 | loss: 1.1089 | acc: 32.0%\n",
      "epoch: 20 | loss: 0.5497 | acc: 73.1%\n",
      "epoch: 40 | loss: 0.2140 | acc: 91.3%\n",
      "epoch: 60 | loss: 0.1051 | acc: 96.1%\n",
      "epoch: 80 | loss: 0.0671 | acc: 97.6%\n",
      "epoch: 100 | loss: 0.0378 | acc: 99.3%\n",
      "epoch: 120 | loss: 0.0276 | acc: 99.7%\n",
      "epoch: 140 | loss: 0.0237 | acc: 99.6%\n",
      "epoch: 160 | loss: 0.0212 | acc: 99.7%\n",
      "epoch: 180 | loss: 0.0192 | acc: 99.7%\n"
     ]
    }
   ],
   "source": [
    "# 训练\n",
    "for t in range(args.num_epochs):\n",
    "    # 向前传播\n",
    "    y_pred = model(X_train)\n",
    "    \n",
    "    # 准确率\n",
    "    _, predictions = y_pred.max(dim=1)\n",
    "    accuracy = get_accuracy(y_pred=predictions.long(), y_target=y_train)\n",
    "\n",
    "    # 损失\n",
    "    loss = loss_fn(y_pred, y_train)\n",
    "    \n",
    "    if t%20==0: \n",
    "        print (\"epoch: {0:02d} | loss: {1:.4f} | acc: {2:.1f}%\".format(\n",
    "            t, loss, accuracy))\n",
    "\n",
    "    # 梯度归零\n",
    "    optimizer.zero_grad()\n",
    "\n",
    "    # 反向传播\n",
    "    loss.backward()\n",
    "\n",
    "    # 更新权重\n",
    "    optimizer.step()"
   ]
  },
  {
   "cell_type": "code",
   "execution_count": 37,
   "metadata": {
    "colab": {},
    "colab_type": "code",
    "id": "Y4tI2iZ1vl8e",
    "scrolled": false
   },
   "outputs": [],
   "source": [
    "# 预测\n",
    "_, pred_train = model(X_train, apply_softmax=True).max(dim=1)\n",
    "_, pred_test = model(X_test, apply_softmax=True).max(dim=1)"
   ]
  },
  {
   "cell_type": "code",
   "execution_count": 38,
   "metadata": {
    "colab": {
     "base_uri": "https://localhost:8080/",
     "height": 34
    },
    "colab_type": "code",
    "id": "CgM4qu8I62BP",
    "outputId": "b38195c6-4b00-44b8-9ed0-3e07657ab1e7",
    "scrolled": false
   },
   "outputs": [
    {
     "name": "stdout",
     "output_type": "stream",
     "text": [
      "train acc: 99.7%, test acc: 99.5%\n"
     ]
    }
   ],
   "source": [
    "# 训练集和测试集的准确率\n",
    "train_acc = get_accuracy(y_pred=pred_train, y_target=y_train)\n",
    "test_acc = get_accuracy(y_pred=pred_test, y_target=y_test)\n",
    "print (\"train acc: {0:.1f}%, test acc: {1:.1f}%\".format(train_acc, test_acc))"
   ]
  },
  {
   "cell_type": "code",
   "execution_count": 39,
   "metadata": {
    "colab": {
     "base_uri": "https://localhost:8080/",
     "height": 335
    },
    "colab_type": "code",
    "id": "Xj7cwzZ4NoVI",
    "outputId": "cdee010c-f955-4632-feda-c4038e0b9baa",
    "scrolled": false
   },
   "outputs": [
    {
     "data": {
      "image/png": "[encoded data removed]",
      "text/plain": [
       "<Figure size 864x360 with 2 Axes>"
      ]
     },
     "metadata": {
      "needs_background": "light"
     },
     "output_type": "display_data"
    }
   ],
   "source": [
    "# 可视化决策边界\n",
    "plt.figure(figsize=(12,5))\n",
    "plt.subplot(1, 2, 1)\n",
    "plt.title(\"Train\")\n",
    "plot_multiclass_decision_boundary(model=model, X=X_train, y=y_train)\n",
    "plt.subplot(1, 2, 2)\n",
    "plt.title(\"Test\")\n",
    "plot_multiclass_decision_boundary(model=model, X=X_test, y=y_test)\n",
    "plt.show()"
   ]
  },
  {
   "cell_type": "code",
   "execution_count": 40,
   "metadata": {
    "colab": {
     "base_uri": "https://localhost:8080/",
     "height": 537
    },
    "colab_type": "code",
    "id": "IsxhNLTr_Jg7",
    "outputId": "5e44b5b5-c6fd-4c2d-bfdd-1914734e33c5",
    "scrolled": false
   },
   "outputs": [
    {
     "name": "stdout",
     "output_type": "stream",
     "text": [
      "              precision    recall  f1-score   support\n",
      "\n",
      "           0       0.98      1.00      0.99       119\n",
      "           1       1.00      1.00      1.00       116\n",
      "           2       1.00      0.99      0.99       140\n",
      "\n",
      "   micro avg       0.99      0.99      0.99       375\n",
      "   macro avg       0.99      1.00      0.99       375\n",
      "weighted avg       0.99      0.99      0.99       375\n",
      "\n"
     ]
    },
    {
     "data": {
      "image/png": "[encoded data removed]",
      "text/plain": [
       "<Figure size 432x288 with 2 Axes>"
      ]
     },
     "metadata": {
      "needs_background": "light"
     },
     "output_type": "display_data"
    }
   ],
   "source": [
    "# 混淆矩阵\n",
    "cm = confusion_matrix(y_test, pred_test)\n",
    "plot_confusion_matrix(cm=cm, classes=[0, 1, 2])\n",
    "print (classification_report(y_test, pred_test))"
   ]
  },
  {
   "cell_type": "markdown",
   "metadata": {
    "colab_type": "text",
    "id": "j7GfEoEWhExI",
    "mdEditEnable": false
   },
   "source": [
    "## 可视化权重\n",
    "\n",
    "到目前为止，我们已经见过了诸如损失，准确率甚至可视化的决策边界。然而模型的权重呢？要对权重做可视化其实有些困难，因为权重是一直在被更新的。\n",
    " \n",
    "但是知道权重的变化情况很关键，因为实际情况下会出现类似，所有权重都接近于0，有些权重值增长过快。这些问题都暗示了当前模型需要进行一些微调或标准化操作，只是我们需要能实际看到权重的值才能发现或者确定问题已经解决。因为权重可能会有很多维度，我们需要做的是可视化这些参数的的平均值和标准差。\n",
    "\n",
    "需要可视化所有参数时，我们一般使用 [Tensorboard](https://www.tensorflow.org/guide/summaries_and_tensorboard)。在K-Lab上使用\n",
    "Tensorboard 需要一些hack的操作，如果你真的需要使用Tensorbord, 请点击右下角的反馈提交工单，但后续我们会提供更加便捷的tensorboard入口。\n",
    "但如果你是在本地机器上使用Tensorboard, 你只需要在命令行工具中运行 `tensorboard --logdir='./logs' --port=6006`, 然后在浏览器中打开 `http://localhost:6006`\n",
    "\n",
    "\n",
    "<img src=\"data/tensorboard.png\" alt=\"Drawing\" style=\"width: 900px;\"/>\n",
    "\n",
    "下面是一些可以度量和可视化的参数:\n",
    "1. 损失和准确率\n",
    "2. 权重的平均数和标准差\n",
    "3. 激活的均值和标准差\n",
    "3. 梯度的均值和标准差"
   ]
  },
  {
   "cell_type": "code",
   "execution_count": 41,
   "metadata": {
    "colab": {
     "base_uri": "https://localhost:8080/",
     "height": 190
    },
    "colab_type": "code",
    "id": "jilLRr8W05qC",
    "outputId": "e5d9238b-7644-41d4-e229-620afdcbc935",
    "scrolled": false
   },
   "outputs": [
    {
     "name": "stderr",
     "output_type": "stream",
     "text": [
      "'pip3' 不是内部或外部命令，也不是可运行的程序\n",
      "或批处理文件。\n"
     ]
    }
   ],
   "source": [
    "# 安装 TensorboardX\n",
    "!pip3 install tensorboardX"
   ]
  },
  {
   "cell_type": "code",
   "execution_count": 42,
   "metadata": {
    "colab": {},
    "colab_type": "code",
    "id": "t6rsfwPuRRMC",
    "scrolled": false
   },
   "outputs": [],
   "source": [
    "# 在端口 6006 上运行 Tensorboard\n",
    "LOG_DIR = './log'\n",
    "run_num = 0\n",
    "get_ipython().system_raw(\n",
    "    'tensorboard --logdir {} --host 0.0.0.0 --port 6006 &'\n",
    "    .format(LOG_DIR)\n",
    ")"
   ]
  },
  {
   "cell_type": "code",
   "execution_count": 43,
   "metadata": {
    "colab": {},
    "colab_type": "code",
    "id": "pG64Zj7gRjz2",
    "scrolled": false
   },
   "outputs": [],
   "source": [
    "get_ipython().system_raw('lt --port 6006 >> data/tensorboard.txt 2>&1 &')"
   ]
  },
  {
   "cell_type": "markdown",
   "metadata": {
    "colab_type": "text",
    "id": "efEPZIuSQJKP",
    "mdEditEnable": false
   },
   "source": [
    "\n",
    "现在我们可以训练模型并且在 tensorboard 上查看可视化结果"
   ]
  },
  {
   "cell_type": "code",
   "execution_count": 44,
   "metadata": {
    "colab": {
     "base_uri": "https://localhost:8080/",
     "height": 428
    },
    "colab_type": "code",
    "id": "Q4L_Um9MP3EW",
    "outputId": "84617b02-a1d5-4d4a-c4d0-a125455965c3",
    "scrolled": false
   },
   "outputs": [
    {
     "ename": "ModuleNotFoundError",
     "evalue": "No module named 'tensorboardX'",
     "output_type": "error",
     "traceback": [
      "\u001b[1;31m---------------------------------------------------------------------------\u001b[0m",
      "\u001b[1;31mModuleNotFoundError\u001b[0m                       Traceback (most recent call last)",
      "\u001b[1;32m<ipython-input-44-435cf5aa8b4c>\u001b[0m in \u001b[0;36m<module>\u001b[1;34m\u001b[0m\n\u001b[0;32m      1\u001b[0m \u001b[1;31m# 一些前置工作\u001b[0m\u001b[1;33m\u001b[0m\u001b[1;33m\u001b[0m\u001b[1;33m\u001b[0m\u001b[0m\n\u001b[1;32m----> 2\u001b[1;33m \u001b[1;32mfrom\u001b[0m \u001b[0mtensorboardX\u001b[0m \u001b[1;32mimport\u001b[0m \u001b[0mSummaryWriter\u001b[0m\u001b[1;33m\u001b[0m\u001b[1;33m\u001b[0m\u001b[0m\n\u001b[0m\u001b[0;32m      3\u001b[0m \u001b[1;32mimport\u001b[0m \u001b[0mtorchvision\u001b[0m\u001b[1;33m.\u001b[0m\u001b[0mutils\u001b[0m \u001b[1;32mas\u001b[0m \u001b[0mvutils\u001b[0m\u001b[1;33m\u001b[0m\u001b[1;33m\u001b[0m\u001b[0m\n\u001b[0;32m      4\u001b[0m \u001b[0mget_ipython\u001b[0m\u001b[1;33m(\u001b[0m\u001b[1;33m)\u001b[0m\u001b[1;33m.\u001b[0m\u001b[0msystem\u001b[0m\u001b[1;33m(\u001b[0m\u001b[1;34m'pip install Pillow --upgrade -i https://pypi.tuna.tsinghua.edu.cn/simple'\u001b[0m\u001b[1;33m)\u001b[0m\u001b[1;33m\u001b[0m\u001b[1;33m\u001b[0m\u001b[0m\n\u001b[0;32m      5\u001b[0m \u001b[0mget_ipython\u001b[0m\u001b[1;33m(\u001b[0m\u001b[1;33m)\u001b[0m\u001b[1;33m.\u001b[0m\u001b[0msystem\u001b[0m\u001b[1;33m(\u001b[0m\u001b[1;34m'pip install image -i https://pypi.tuna.tsinghua.edu.cn/simple'\u001b[0m\u001b[1;33m)\u001b[0m\u001b[1;33m\u001b[0m\u001b[1;33m\u001b[0m\u001b[0m\n",
      "\u001b[1;31mModuleNotFoundError\u001b[0m: No module named 'tensorboardX'"
     ]
    }
   ],
   "source": [
    "# 一些前置工作\n",
    "from tensorboardX import SummaryWriter\n",
    "import torchvision.utils as vutils\n",
    "!pip install Pillow --upgrade -i https://pypi.tuna.tsinghua.edu.cn/simple\n",
    "!pip install image -i https://pypi.tuna.tsinghua.edu.cn/simple\n",
    "from PIL import Image\n",
    "def register_extension(id, extension): Image.EXTENSION[extension.lower()] = id.upper()\n",
    "Image.register_extension = register_extension\n",
    "def register_extensions(id, extensions): \n",
    "    for extension in extensions: register_extension(id, extension)\n",
    "Image.register_extensions = register_extensions"
   ]
  },
  {
   "cell_type": "code",
   "execution_count": 45,
   "metadata": {
    "colab": {},
    "colab_type": "code",
    "id": "HUsGMQliVf6j",
    "scrolled": false
   },
   "outputs": [
    {
     "ename": "NameError",
     "evalue": "name 'SummaryWriter' is not defined",
     "output_type": "error",
     "traceback": [
      "\u001b[1;31m---------------------------------------------------------------------------\u001b[0m",
      "\u001b[1;31mNameError\u001b[0m                                 Traceback (most recent call last)",
      "\u001b[1;32m<ipython-input-45-52f8aaa57847>\u001b[0m in \u001b[0;36m<module>\u001b[1;34m\u001b[0m\n\u001b[0;32m      1\u001b[0m \u001b[1;31m# 初始化 Tensorboard 写入器\u001b[0m\u001b[1;33m\u001b[0m\u001b[1;33m\u001b[0m\u001b[1;33m\u001b[0m\u001b[0m\n\u001b[0;32m      2\u001b[0m \u001b[0mrun_num\u001b[0m \u001b[1;33m+=\u001b[0m \u001b[1;36m1\u001b[0m\u001b[1;33m\u001b[0m\u001b[1;33m\u001b[0m\u001b[0m\n\u001b[1;32m----> 3\u001b[1;33m \u001b[0mwriter\u001b[0m \u001b[1;33m=\u001b[0m \u001b[0mSummaryWriter\u001b[0m\u001b[1;33m(\u001b[0m\u001b[0mlog_dir\u001b[0m\u001b[1;33m=\u001b[0m\u001b[0mLOG_DIR\u001b[0m\u001b[1;33m+\u001b[0m\u001b[1;34m\"/run_{}\"\u001b[0m\u001b[1;33m.\u001b[0m\u001b[0mformat\u001b[0m\u001b[1;33m(\u001b[0m\u001b[0mrun_num\u001b[0m\u001b[1;33m)\u001b[0m\u001b[1;33m)\u001b[0m\u001b[1;33m\u001b[0m\u001b[1;33m\u001b[0m\u001b[0m\n\u001b[0m",
      "\u001b[1;31mNameError\u001b[0m: name 'SummaryWriter' is not defined"
     ]
    }
   ],
   "source": [
    "# 初始化 Tensorboard 写入器\n",
    "run_num += 1\n",
    "writer = SummaryWriter(log_dir=LOG_DIR+\"/run_{}\".format(run_num))"
   ]
  },
  {
   "cell_type": "code",
   "execution_count": null,
   "metadata": {
    "colab": {
     "base_uri": "https://localhost:8080/",
     "height": 85
    },
    "colab_type": "code",
    "id": "VGLYVpplWTqK",
    "outputId": "69a02442-17b5-4131-c9c2-1aa65ad312e4",
    "scrolled": false
   },
   "outputs": [],
   "source": [
    "# 初始化模型\n",
    "model = MLP(input_dim=args.dimensions, \n",
    "            hidden_dim=args.num_hidden_units, \n",
    "            output_dim=args.num_classes)\n",
    "print (model.named_modules)"
   ]
  },
  {
   "cell_type": "code",
   "execution_count": null,
   "metadata": {
    "colab": {},
    "colab_type": "code",
    "id": "G8hWwoCUWTwG",
    "scrolled": false
   },
   "outputs": [],
   "source": [
    "# 优化\n",
    "loss_fn = nn.CrossEntropyLoss()\n",
    "optimizer = optim.Adam(model.parameters(), lr=args.learning_rate)"
   ]
  },
  {
   "cell_type": "code",
   "execution_count": null,
   "metadata": {
    "colab": {},
    "colab_type": "code",
    "id": "DshX8a8qaa1q",
    "scrolled": false
   },
   "outputs": [],
   "source": [
    " def write_weights(writer, model, epoch_num):\n",
    "    for name, param in model.named_parameters():\n",
    "        \n",
    "        # 权重\n",
    "        writer.add_scalar(name+\"/mean\", param.data.numpy().mean(), epoch_num)\n",
    "        writer.add_scalar(name+\"/std\", param.data.numpy().std(), epoch_num)\n",
    "        \n",
    "        # 梯度\n",
    "        writer.add_scalar(name+\"/grad_mean\", torch.mean(param.grad), epoch_num)\n",
    "        writer.add_scalar(name+\"/grad_std\", torch.std(param.grad), epoch_num)\n",
    "        \n",
    "        # 权重直方图 (大于1024维会报错)\n",
    "        if len(param.size()) > 1 and param.size()[-1] <= 1024: \n",
    "            writer.add_histogram(name, param.clone().cpu().data.numpy(), epoch_num)"
   ]
  },
  {
   "cell_type": "code",
   "execution_count": null,
   "metadata": {
    "colab": {
     "base_uri": "https://localhost:8080/",
     "height": 187
    },
    "colab_type": "code",
    "id": "A336qkQxWTuP",
    "outputId": "8fd6624d-bdd6-47e0-a5ba-fa7bd3584167",
    "scrolled": false
   },
   "outputs": [],
   "source": [
    "# 训练\n",
    "for t in range(args.num_epochs):\n",
    "    # 向前传播\n",
    "    y_pred = model(X_train)\n",
    "    \n",
    "    # 准确率\n",
    "    _, predictions = y_pred.max(dim=1)\n",
    "    accuracy = get_accuracy(y_pred=predictions.long(), y_target=y_train)\n",
    "\n",
    "    # 损失\n",
    "    loss = loss_fn(y_pred, y_train)\n",
    "    \n",
    "    # 打印checkpoint数据\n",
    "    if t%20==0: \n",
    "        print (\"epoch: {0:02d} | loss: {1:.4f} | accuracy: {2:.1f}%\".format(\n",
    "            t, loss, accuracy))\n",
    "\n",
    "    # 梯度归零\n",
    "    optimizer.zero_grad()\n",
    "\n",
    "    # 反向传播\n",
    "    loss.backward()\n",
    "\n",
    "    # 更新权重\n",
    "    optimizer.step()\n",
    "    \n",
    "    # 写进tensorboard\n",
    "    writer.add_scalar('metrics/train_loss', loss, t)\n",
    "    writer.add_scalar('metrics/train_acc', accuracy, t)\n",
    "    writer.add_scalar('metrics/lr', optimizer.param_groups[0]['lr'], t)\n",
    "    write_weights(writer=writer, model=model, epoch_num=t)"
   ]
  },
  {
   "cell_type": "code",
   "execution_count": null,
   "metadata": {
    "colab": {
     "base_uri": "https://localhost:8080/",
     "height": 68
    },
    "colab_type": "code",
    "id": "j-IEhlPYVf38",
    "outputId": "39b42566-7d01-4f1e-9f5c-31334cf4183a",
    "scrolled": false
   },
   "outputs": [],
   "source": [
    "print (\"Go to this link below to see the Tensorboard:\")\n",
    "!cat tensorboard.txt\n",
    "print (\"Click on SCALARS to see metrics and DISTRIBUTIONS to see weights.\")"
   ]
  },
  {
   "cell_type": "markdown",
   "metadata": {
    "colab_type": "text",
    "id": "ghf5uLuhg3D0",
    "mdEditEnable": false
   },
   "source": [
    "## 激活函数\n",
    "\n",
    "在MLP中，我们使用了激活函数 ReLU (~$max(0,z)~$), 它是最广泛使用的激活函数之一。但其实还有别的激活函数可以使用，他们都有各自的特性。\n"
   ]
  },
  {
   "cell_type": "code",
   "execution_count": null,
   "metadata": {
    "colab": {
     "base_uri": "https://localhost:8080/",
     "height": 226
    },
    "colab_type": "code",
    "id": "ivnfSKEhg3Md",
    "outputId": "45b7cb4b-a87c-4bf5-dd81-4c3b1ef381ee",
    "scrolled": false
   },
   "outputs": [],
   "source": [
    "plt.figure(figsize=(12,3))\n",
    "\n",
    "# 数据\n",
    "x = torch.arange(-5., 5., 0.1)\n",
    "\n",
    "# Sigmoid 函数(将值限定在0到1之间.)\n",
    "plt.subplot(1, 3, 1)\n",
    "plt.title(\"Sigmoid activation\")\n",
    "y = torch.sigmoid(x)\n",
    "plt.plot(x.numpy(), y.numpy())\n",
    "\n",
    "# Tanh 函数(将值限定在-1 到 1 之间)\n",
    "plt.subplot(1, 3, 2)\n",
    "y = torch.tanh(x)\n",
    "plt.title(\"Tanh activation\")\n",
    "plt.plot(x.numpy(), y.numpy())\n",
    "\n",
    "# Relu 函数(将负值归零处理)\n",
    "plt.subplot(1, 3, 3)\n",
    "y = F.relu(x)\n",
    "plt.title(\"ReLU activation\")\n",
    "plt.plot(x.numpy(), y.numpy())\n",
    "\n",
    "# Show plots\n",
    "plt.show()"
   ]
  },
  {
   "cell_type": "markdown",
   "metadata": {
    "colab_type": "text",
    "id": "1hDPBE0sk2mJ",
    "mdEditEnable": false
   },
   "source": [
    "## 初始化权重\n",
    "\n",
    "到现在为止我们都用数值较小的随机数来初始化权重，但其实这种方法并不能提供最优的训练收敛速度。我们的目标是得到可以在所有神经元上获得相似输出分布的权重。一般可以在进行非线性操作前先强制让权重都拥有相同的单位方差。\n",
    "\n",
    "一个常用的方法是使用 [Xavier初始化方法 (xacier initialization)](https://blog.csdn.net/lanchunhui/article/details/70318941)。\n",
    "\n",
    "你可能会有这样的疑问，为什么我们不在每次向前传播时都做这个操作呢? 这是个非常好的问题。我们会在以后的课程项目中介绍更多更高阶的方法(比如batch/layer normalization)。"
   ]
  },
  {
   "cell_type": "code",
   "execution_count": null,
   "metadata": {
    "colab": {},
    "colab_type": "code",
    "id": "SOYptFo7k-JI",
    "scrolled": false
   },
   "outputs": [],
   "source": [
    "# MLP\n",
    "class MLP(nn.Module):\n",
    "    def __init__(self, input_dim, hidden_dim, output_dim):\n",
    "        super(MLP, self).__init__()\n",
    "        self.fc1 = nn.Linear(input_dim, hidden_dim)\n",
    "        self.fc2 = nn.Linear(hidden_dim, output_dim)\n",
    "\n",
    "    def init_weights(self):\n",
    "        init.xavier_normal(self.fc1.weight, gain=nn.init.calculate_gain('relu')) \n",
    "\n",
    "    def forward(self, x_in, apply_softmax=False):\n",
    "        a_1 = F.relu(self.fc1(x_in)) # activaton function added!\n",
    "        y_pred = self.fc2(a_1)\n",
    "\n",
    "        if apply_softmax:\n",
    "            y_pred = F.softmax(y_pred, dim=1)\n",
    "\n",
    "        return y_pred"
   ]
  },
  {
   "cell_type": "markdown",
   "metadata": {
    "colab_type": "text",
    "id": "FIhvdD_zg8os",
    "mdEditEnable": false
   },
   "source": [
    "## 过拟合\n",
    "\n",
    "虽然神经网络在非线性数据上的表现非常好，但同时它也非常容易在训练数据上过拟合，导致在测试集上泛化效果很差。看看下面这个例子就懂了，我们生成了完全随机的数据来拟合有 [~$2*N*C + D~$](https://arxiv.org/abs/1611.03530) 个隐藏神经元的模型。训练效果非常拔群，但是在测试集上的性能表现非常差。我们会在以后的课程中教大家如何应对过拟合的问题。"
   ]
  },
  {
   "cell_type": "code",
   "execution_count": null,
   "metadata": {
    "colab": {},
    "colab_type": "code",
    "id": "uRdM16NhazJP",
    "scrolled": false
   },
   "outputs": [],
   "source": [
    "# 参数\n",
    "args = Namespace(\n",
    "    seed=1234,\n",
    "    num_samples_per_class=40,\n",
    "    dimensions=2,\n",
    "    num_classes=3,\n",
    "    train_size=0.75,\n",
    "    test_size=0.25,\n",
    "    num_hidden_units=2*40*3+2 , # 2*N*C + D\n",
    "    learning_rate=1e-3,\n",
    "    regularization=1e-3,\n",
    "    num_epochs=1000,\n",
    ")\n",
    "\n",
    "# 设置可复现的随机种子\n",
    "np.random.seed(args.seed)"
   ]
  },
  {
   "cell_type": "code",
   "execution_count": null,
   "metadata": {
    "colab": {
     "base_uri": "https://localhost:8080/",
     "height": 51
    },
    "colab_type": "code",
    "id": "qf00Biq6g8ty",
    "outputId": "fb7c0f5c-b15e-402e-ebce-a0260118aaea",
    "scrolled": false
   },
   "outputs": [],
   "source": [
    "# 生成随机数据\n",
    "X = torch.randn(args.num_samples_per_class*args.num_classes, args.dimensions).float()\n",
    "y = torch.LongTensor([[i]*args.num_samples_per_class \n",
    "                       for i in range(args.num_classes)]).view(-1)\n",
    "print (\"X: {0}\".format(np.shape(X)))\n",
    "print (\"y: {0}\".format(np.shape(y)))"
   ]
  },
  {
   "cell_type": "code",
   "execution_count": null,
   "metadata": {
    "colab": {
     "base_uri": "https://localhost:8080/",
     "height": 34
    },
    "colab_type": "code",
    "id": "-bA9vK9SWkjh",
    "outputId": "4d304402-2504-4c3d-9388-5260c0868df0",
    "scrolled": false
   },
   "outputs": [],
   "source": [
    "# 打乱数据\n",
    "shuffle_indicies = torch.LongTensor(random.sample(range(0, len(X)), len(X)))\n",
    "X = X[shuffle_indicies]\n",
    "y = y[shuffle_indicies]\n",
    "\n",
    "# 切分数据集\n",
    "test_start_idx = int(len(X) * args.train_size)\n",
    "X_train = X[:test_start_idx] \n",
    "y_train = y[:test_start_idx] \n",
    "X_test = X[test_start_idx:] \n",
    "y_test = y[test_start_idx:]\n",
    "print(\"We have %i train samples and %i test samples.\" % (len(X_train), len(X_test)))"
   ]
  },
  {
   "cell_type": "code",
   "execution_count": null,
   "metadata": {
    "colab": {},
    "colab_type": "code",
    "id": "w-_8b7AlaFdY",
    "scrolled": false
   },
   "outputs": [],
   "source": [
    "# MLP\n",
    "class MLP(nn.Module):\n",
    "    def __init__(self, input_dim, hidden_dim, output_dim):\n",
    "        super(MLP, self).__init__()\n",
    "        print \n",
    "        self.fc1 = nn.Linear(input_dim, hidden_dim)\n",
    "        self.fc2 = nn.Linear(hidden_dim, output_dim)\n",
    "\n",
    "    def init_weights(self):\n",
    "        init.xavier_normal(self.fc1.weight, gain=nn.init.calculate_gain('relu'))\n",
    "\n",
    "    def forward(self, x_in, apply_softmax=False):\n",
    "        a_1 = F.relu(self.fc1(x_in)) \n",
    "        y_pred = self.fc2(a_1)\n",
    "\n",
    "        if apply_softmax:\n",
    "            y_pred = F.softmax(y_pred, dim=1)\n",
    "\n",
    "        return y_pred"
   ]
  },
  {
   "cell_type": "code",
   "execution_count": null,
   "metadata": {
    "colab": {
     "base_uri": "https://localhost:8080/",
     "height": 85
    },
    "colab_type": "code",
    "id": "xozz2bBoWkmq",
    "outputId": "be6b5de8-f06e-4407-c872-5b5fd3b6d164",
    "scrolled": false
   },
   "outputs": [],
   "source": [
    "# 初始化模型\n",
    "model = MLP(input_dim=args.dimensions, hidden_dim=args.num_hidden_units, \n",
    "            output_dim=args.num_classes)\n",
    "print (model.named_modules)"
   ]
  },
  {
   "cell_type": "code",
   "execution_count": null,
   "metadata": {
    "colab": {},
    "colab_type": "code",
    "id": "bXnkWoPaWkpe",
    "scrolled": false
   },
   "outputs": [],
   "source": [
    "# 优化\n",
    "loss_fn = nn.CrossEntropyLoss()\n",
    "optimizer = optim.Adam(model.parameters(), lr=args.learning_rate)"
   ]
  },
  {
   "cell_type": "code",
   "execution_count": null,
   "metadata": {
    "colab": {
     "base_uri": "https://localhost:8080/",
     "height": 187
    },
    "colab_type": "code",
    "id": "zgayj4E1WksH",
    "outputId": "ebba47f1-25de-4a51-f6d8-cda697c500ea",
    "scrolled": false
   },
   "outputs": [],
   "source": [
    "# 训练\n",
    "for t in range(args.num_epochs):\n",
    "    # 向前传播\n",
    "    y_pred = model(X_train)\n",
    "\n",
    "    # 准确率\n",
    "    _, predictions = y_pred.max(dim=1)\n",
    "    accuracy = get_accuracy(y_pred=predictions.long(), y_target=y_train)\n",
    "\n",
    "    # 损失\n",
    "    loss = loss_fn(y_pred, y_train)\n",
    "    \n",
    "    # 打印checkpoint\n",
    "    if t%100==0: \n",
    "        print (\"epoch: {0:02d} | loss: {1:.4f} | accuracy: {2:.1f}%\".format(\n",
    "            t, loss, accuracy))\n",
    "\n",
    "    # 梯度归零\n",
    "    optimizer.zero_grad()\n",
    "\n",
    "    # 反向传播\n",
    "    loss.backward()\n",
    "\n",
    "    # 更新权重\n",
    "    optimizer.step()"
   ]
  },
  {
   "cell_type": "code",
   "execution_count": null,
   "metadata": {
    "colab": {},
    "colab_type": "code",
    "id": "p3OJLNwuZxtk",
    "scrolled": false
   },
   "outputs": [],
   "source": [
    "# 预测\n",
    "_, pred_train = model(X_train, apply_softmax=True).max(dim=1)\n",
    "_, pred_test = model(X_test, apply_softmax=True).max(dim=1)"
   ]
  },
  {
   "cell_type": "code",
   "execution_count": null,
   "metadata": {
    "colab": {
     "base_uri": "https://localhost:8080/",
     "height": 34
    },
    "colab_type": "code",
    "id": "_LU9Wzt0ZxwI",
    "outputId": "0586e063-e940-495b-b872-ace35455a4cb",
    "scrolled": false
   },
   "outputs": [],
   "source": [
    "# 训练和测试数据的准确率\n",
    "train_acc = get_accuracy(y_pred=pred_train, y_target=y_train)\n",
    "test_acc = get_accuracy(y_pred=pred_test, y_target=y_test)\n",
    "print (\"train acc: {0:.1f}%, test acc: {1:.1f}%\".format(train_acc, test_acc))"
   ]
  },
  {
   "cell_type": "code",
   "execution_count": null,
   "metadata": {
    "colab": {
     "base_uri": "https://localhost:8080/",
     "height": 335
    },
    "colab_type": "code",
    "id": "rpSoAEdGWku5",
    "outputId": "85df95a1-c511-407b-f28e-e92cbc08a214",
    "scrolled": false
   },
   "outputs": [],
   "source": [
    "# 可视化决策边界\n",
    "plt.figure(figsize=(12,5))\n",
    "plt.subplot(1, 2, 1)\n",
    "plt.title(\"Train\")\n",
    "plot_multiclass_decision_boundary(model=model, X=X_train, y=y_train)\n",
    "plt.subplot(1, 2, 2)\n",
    "plt.title(\"Test\")\n",
    "plot_multiclass_decision_boundary(model=model, X=X_test, y=y_test)\n",
    "plt.show()"
   ]
  },
  {
   "cell_type": "code",
   "execution_count": null,
   "metadata": {
    "colab": {
     "base_uri": "https://localhost:8080/",
     "height": 537
    },
    "colab_type": "code",
    "id": "_4m9TXpTZ22C",
    "outputId": "bab12967-1565-49e0-b139-06d67b803fed",
    "scrolled": false
   },
   "outputs": [],
   "source": [
    "# 混淆矩阵\n",
    "cm = confusion_matrix(y_test, pred_test)\n",
    "plot_confusion_matrix(cm=cm, classes=[0, 1, 2])\n",
    "print (classification_report(y_test, pred_test))"
   ]
  },
  {
   "cell_type": "markdown",
   "metadata": {
    "colab_type": "text",
    "id": "z6kLwcBveLy5",
    "mdEditEnable": false
   },
   "source": [
    "## Dropout\n",
    "\n",
    "解决过拟合的一个非常好的方法是增加数据的数量，不过这个方法并不一直可行。幸运的是我们还有正则化和添加 dropout 等策略来增加模型的鲁棒性。我们已经学到了正则化操作而且，它可以被非常方便地加入到优化器部分的代码中。\n",
    "\n",
    "Dropout 是(只在训练过程中)将一些神经元的输出归零的技巧。我们将它应用在每层总数 p% 的神经元，并在每个训练批次更改 p 值。Dropout 防止神经元过于依赖训练数据，并且只是作为一种采样方法，毕竟每次会删掉不同的神经元。\n",
    "\n",
    "\n",
    "<img src=\"data/dropout.png\" alt=\"Drawing\" style=\"width: 600px;\"/>\n"
   ]
  },
  {
   "cell_type": "code",
   "execution_count": null,
   "metadata": {
    "colab": {},
    "colab_type": "code",
    "id": "yGQq0MvcgBEG",
    "scrolled": false
   },
   "outputs": [],
   "source": [
    "# 参数\n",
    "args.dropout_p = 0.1 # 40% of the neurons are dropped each pass\n",
    "args.lambda_l2 = 1e-4 # L2 regularization"
   ]
  },
  {
   "cell_type": "code",
   "execution_count": null,
   "metadata": {
    "colab": {},
    "colab_type": "code",
    "id": "R6NvhBUyf27y",
    "scrolled": false
   },
   "outputs": [],
   "source": [
    "# MLP·\n",
    "class MLP(nn.Module):\n",
    "    def __init__(self, input_dim, hidden_dim, output_dim, dropout_p):\n",
    "        super(MLP, self).__init__()\n",
    "        self.fc1 = nn.Linear(input_dim, hidden_dim)\n",
    "        self.dropout = nn.Dropout(dropout_p) # Defining the dropout\n",
    "        self.fc2 = nn.Linear(hidden_dim, output_dim)\n",
    "\n",
    "    def init_weights(self):\n",
    "        init.xavier_normal(self.fc1.weight, gain=nn.init.calculate_gain('relu'))\n",
    "\n",
    "    def forward(self, x_in, apply_softmax=False):\n",
    "        z = F.relu(self.fc1(x_in))\n",
    "        z = self.dropout(z) # dropping neurons\n",
    "        y_pred = self.fc2(z)\n",
    "\n",
    "        if apply_softmax:\n",
    "            y_pred = F.softmax(y_pred, dim=1)\n",
    "\n",
    "        return y_pred"
   ]
  },
  {
   "cell_type": "code",
   "execution_count": null,
   "metadata": {
    "colab": {
     "base_uri": "https://localhost:8080/",
     "height": 102
    },
    "colab_type": "code",
    "id": "XQK9h7BNf26K",
    "outputId": "3cc6e22b-2c63-4799-fac9-96673f4c7fbe",
    "scrolled": false
   },
   "outputs": [],
   "source": [
    "# 初始化模型\n",
    "model = MLP(input_dim=args.dimensions, \n",
    "            hidden_dim=args.num_hidden_units, \n",
    "            output_dim=args.num_classes, \n",
    "            dropout_p=args.dropout_p)\n",
    "print (model.named_modules)\n",
    "\n",
    "# 优化\n",
    "loss_fn = nn.CrossEntropyLoss()\n",
    "optimizer = optim.Adam(model.parameters(), lr=args.learning_rate, \n",
    "                       weight_decay=args.lambda_l2) # Adding L2 regularization\n",
    "\n",
    "# 训练\n",
    "pass"
   ]
  },
  {
   "cell_type": "markdown",
   "metadata": {
    "colab_type": "text",
    "id": "L0aQUomQoni1",
    "mdEditEnable": false
   },
   "source": [
    "## 其他信息\n",
    "\n",
    "想了解MLP，激活函数等更详细的知识，可以查看 [这个项目](https://www.kesci.com/home/project/5a4f33596fe91734062efc4c)。"
   ]
  },
  {
   "cell_type": "code",
   "execution_count": null,
   "metadata": {
    "id": "3472AE3C0C304EF283D0214848B2E353"
   },
   "outputs": [],
   "source": []
  }
 ],
 "metadata": {
  "kernelspec": {
   "display_name": "Python 3",
   "language": "python",
   "name": "python3"
  },
  "language_info": {
   "codemirror_mode": {
    "name": "ipython",
    "version": 3
   },
   "file_extension": ".py",
   "mimetype": "text/x-python",
   "name": "python",
   "nbconvert_exporter": "python",
   "pygments_lexer": "ipython3",
   "version": "3.7.1"
  }
 },
 "nbformat": 4,
 "nbformat_minor": 1
}
