{
 "cells": [
  {
   "cell_type": "markdown",
   "metadata": {
    "colab_type": "text",
    "id": "OLIxEDq6VhvZ",
    "mdEditEnable": false
   },
   "source": [
    "## PyTorch\n",
    "\n",
    "<img src=\"data/logo.png\" alt=\"Drawing\" style=\"width: 300px;\"/>\n",
    "\n",
    "这个项目中我们会开始接触 PytTorch, 一个用来构建动态神经网络的框架。这个项目中将会介绍许多如声明和使用 **张量(Tensors)** 的基础，然后会在接下来的项目中开始构建模型\n",
    "\n",
    "\n",
    "<img src=\"data/pytorch.png\" alt=\"Drawing\" style=\"width: 300px;\"/>"
   ]
  },
  {
   "cell_type": "markdown",
   "metadata": {
    "colab_type": "text",
    "id": "VoMq0eFRvugb",
    "mdEditEnable": false
   },
   "source": [
    "## 张量 (Tensor) 基础"
   ]
  },
  {
   "cell_type": "code",
   "execution_count": 4,
   "metadata": {
    "colab": {},
    "colab_type": "code",
    "id": "rX7Vs1JxL9wX",
    "scrolled": false
   },
   "outputs": [],
   "source": [
    "import numpy as np\n",
    "import torch"
   ]
  },
  {
   "cell_type": "code",
   "execution_count": 5,
   "metadata": {
    "colab": {
     "base_uri": "https://localhost:8080/",
     "height": 119
    },
    "colab_type": "code",
    "id": "Nv0xryLkKujV",
    "outputId": "d46d5e58-2195-40a8-841c-26b627541a83",
    "scrolled": false
   },
   "outputs": [
    {
     "name": "stdout",
     "output_type": "stream",
     "text": [
      "Type: torch.FloatTensor\n",
      "Size: torch.Size([3, 4])\n",
      "Values: \n",
      "tensor([[0., 0., 0., 0.],\n",
      "        [0., 0., 0., 0.],\n",
      "        [0., 0., 0., 0.]])\n"
     ]
    }
   ],
   "source": [
    "# 创建空的张量\n",
    "x = torch.Tensor(3, 4)\n",
    "print(\"Type: {}\".format(x.type()))\n",
    "print(\"Size: {}\".format(x.shape))\n",
    "print(\"Values: \\n{}\".format(x))"
   ]
  },
  {
   "cell_type": "code",
   "execution_count": 6,
   "metadata": {
    "colab": {
     "base_uri": "https://localhost:8080/",
     "height": 51
    },
    "colab_type": "code",
    "id": "vnyzY4PHL7c5",
    "outputId": "70ed373d-e7e0-43cd-e732-51be86377721",
    "scrolled": false
   },
   "outputs": [
    {
     "name": "stdout",
     "output_type": "stream",
     "text": [
      "tensor([[-1.0481, -0.6419,  0.6554],\n",
      "        [-0.9385, -0.9191, -2.5517]])\n"
     ]
    }
   ],
   "source": [
    "# 创建随机张量\n",
    "x = torch.randn(2, 3) # 正态分布 (rand(2,3) -> 均匀分布)\n",
    "print (x)"
   ]
  },
  {
   "cell_type": "code",
   "execution_count": 7,
   "metadata": {
    "colab": {
     "base_uri": "https://localhost:8080/",
     "height": 85
    },
    "colab_type": "code",
    "id": "DVwGNeKxMXI8",
    "outputId": "6a185aa3-96f2-4e29-b116-3de3025cff4d",
    "scrolled": false
   },
   "outputs": [
    {
     "name": "stdout",
     "output_type": "stream",
     "text": [
      "tensor([[0., 0., 0.],\n",
      "        [0., 0., 0.]])\n",
      "tensor([[1., 1., 1.],\n",
      "        [1., 1., 1.]])\n"
     ]
    }
   ],
   "source": [
    "# 0 和 1 值张量\n",
    "x = torch.zeros(2, 3)\n",
    "print (x)\n",
    "x = torch.ones(2, 3)\n",
    "print (x)"
   ]
  },
  {
   "cell_type": "code",
   "execution_count": 8,
   "metadata": {
    "colab": {
     "base_uri": "https://localhost:8080/",
     "height": 85
    },
    "colab_type": "code",
    "id": "BPjHnDmCMXLm",
    "outputId": "c14c494e-b714-4983-eb90-665064830a14",
    "scrolled": false
   },
   "outputs": [
    {
     "name": "stdout",
     "output_type": "stream",
     "text": [
      "Size: torch.Size([2, 3])\n",
      "Values: \n",
      "tensor([[1., 2., 3.],\n",
      "        [4., 5., 6.]])\n"
     ]
    }
   ],
   "source": [
    "# 列表 → Tensor\n",
    "x = torch.Tensor([[1, 2, 3],[4, 5, 6]])\n",
    "print(\"Size: {}\".format(x.shape)) \n",
    "print(\"Values: \\n{}\".format(x))"
   ]
  },
  {
   "cell_type": "code",
   "execution_count": 9,
   "metadata": {
    "colab": {
     "base_uri": "https://localhost:8080/",
     "height": 85
    },
    "colab_type": "code",
    "id": "mG4-CHkgMXOE",
    "outputId": "2b9ed2e5-9862-480e-d0ce-d231676d7f49",
    "scrolled": false
   },
   "outputs": [
    {
     "name": "stdout",
     "output_type": "stream",
     "text": [
      "Size: torch.Size([2, 3])\n",
      "Values: \n",
      "tensor([[0.2977, 0.5959, 0.8270],\n",
      "        [0.7097, 0.2836, 0.0607]], dtype=torch.float64)\n"
     ]
    }
   ],
   "source": [
    "# NumPy array → Tensor\n",
    "x = torch.from_numpy(np.random.rand(2, 3))\n",
    "print(\"Size: {}\".format(x.shape)) \n",
    "print(\"Values: \\n{}\".format(x))"
   ]
  },
  {
   "cell_type": "code",
   "execution_count": 10,
   "metadata": {
    "colab": {
     "base_uri": "https://localhost:8080/",
     "height": 51
    },
    "colab_type": "code",
    "id": "L8X2-5cqMXRA",
    "outputId": "af1c82ab-b8d7-4ea6-e142-7f8ed50fda40",
    "scrolled": false
   },
   "outputs": [
    {
     "name": "stdout",
     "output_type": "stream",
     "text": [
      "Type: torch.FloatTensor\n",
      "Type: torch.LongTensor\n"
     ]
    }
   ],
   "source": [
    "# 改变张量类型\n",
    "x = torch.Tensor(3, 4)\n",
    "print(\"Type: {}\".format(x.type()))\n",
    "x = x.long()\n",
    "print(\"Type: {}\".format(x.type()))"
   ]
  },
  {
   "cell_type": "markdown",
   "metadata": {
    "colab_type": "text",
    "id": "S2BRPaMvPbe3",
    "mdEditEnable": false
   },
   "source": [
    "## 张量运算"
   ]
  },
  {
   "cell_type": "code",
   "execution_count": 11,
   "metadata": {
    "colab": {
     "base_uri": "https://localhost:8080/",
     "height": 85
    },
    "colab_type": "code",
    "id": "Xrn8I76TMXT1",
    "outputId": "556b9d7f-79da-415c-f85d-648c5394e3a3",
    "scrolled": false
   },
   "outputs": [
    {
     "name": "stdout",
     "output_type": "stream",
     "text": [
      "Size: torch.Size([2, 3])\n",
      "Values: \n",
      "tensor([[ 0.2981, -1.5545, -0.9973],\n",
      "        [ 2.7231,  1.7473, -1.2574]])\n"
     ]
    }
   ],
   "source": [
    "# 加\n",
    "x = torch.randn(2, 3)\n",
    "y = torch.randn(2, 3)\n",
    "z = x + y\n",
    "print(\"Size: {}\".format(z.shape)) \n",
    "print(\"Values: \\n{}\".format(z))"
   ]
  },
  {
   "cell_type": "code",
   "execution_count": 12,
   "metadata": {
    "colab": {
     "base_uri": "https://localhost:8080/",
     "height": 85
    },
    "colab_type": "code",
    "id": "157fC9WsMXWf",
    "outputId": "a6890b43-4c74-42c6-d654-f62b8c130403",
    "scrolled": false
   },
   "outputs": [
    {
     "name": "stdout",
     "output_type": "stream",
     "text": [
      "Size: torch.Size([2, 2])\n",
      "Values: \n",
      "tensor([[ 1.9006,  0.0858],\n",
      "        [ 1.5689, -0.6334]])\n"
     ]
    }
   ],
   "source": [
    "# 点乘\n",
    "x = torch.randn(2, 3)\n",
    "y = torch.randn(3, 2)\n",
    "z = torch.mm(x, y)\n",
    "print(\"Size: {}\".format(z.shape)) \n",
    "print(\"Values: \\n{}\".format(z))"
   ]
  },
  {
   "cell_type": "code",
   "execution_count": 13,
   "metadata": {
    "colab": {
     "base_uri": "https://localhost:8080/",
     "height": 170
    },
    "colab_type": "code",
    "id": "G6316lAmMXZG",
    "outputId": "3dce79e7-1b9f-4218-84cd-afbb16af7dd4"
   },
   "outputs": [
    {
     "name": "stdout",
     "output_type": "stream",
     "text": [
      "Size: torch.Size([2, 3])\n",
      "Values: \n",
      "tensor([[ 0.7978, -0.4401,  0.1379],\n",
      "        [ 1.4287,  0.6171,  0.2993]])\n",
      "Size: torch.Size([3, 2])\n",
      "Values: \n",
      "tensor([[ 0.7978,  1.4287],\n",
      "        [-0.4401,  0.6171],\n",
      "        [ 0.1379,  0.2993]])\n"
     ]
    }
   ],
   "source": [
    "# Transpose\n",
    "x = torch.randn(2, 3)\n",
    "print(\"Size: {}\".format(x.shape)) \n",
    "print(\"Values: \\n{}\".format(x))\n",
    "y = torch.t(x)\n",
    "print(\"Size: {}\".format(y.shape)) \n",
    "print(\"Values: \\n{}\".format(y))"
   ]
  },
  {
   "cell_type": "code",
   "execution_count": 14,
   "metadata": {
    "colab": {
     "base_uri": "https://localhost:8080/",
     "height": 102
    },
    "colab_type": "code",
    "id": "FCgDCOCjMXcF",
    "outputId": "ff1e16f5-bcd9-407f-9c99-361a0b7f27f6",
    "scrolled": false
   },
   "outputs": [
    {
     "name": "stdout",
     "output_type": "stream",
     "text": [
      "Size: torch.Size([3, 2])\n",
      "Values: \n",
      "tensor([[ 0.7978, -0.4401],\n",
      "        [ 0.1379,  1.4287],\n",
      "        [ 0.6171,  0.2993]])\n"
     ]
    }
   ],
   "source": [
    "# 维度变化\n",
    "z = x.view(3, 2)\n",
    "print(\"Size: {}\".format(z.shape)) \n",
    "print(\"Values: \\n{}\".format(z))"
   ]
  },
  {
   "cell_type": "code",
   "execution_count": 15,
   "metadata": {
    "colab": {
     "base_uri": "https://localhost:8080/",
     "height": 561
    },
    "colab_type": "code",
    "id": "T3-6nGgvECH9",
    "outputId": "9599adaf-1feb-4a42-d4b5-af23f1de5b2d",
    "scrolled": false
   },
   "outputs": [
    {
     "name": "stdout",
     "output_type": "stream",
     "text": [
      "Size: torch.Size([2, 3, 4])\n",
      "Values: \n",
      "tensor([[[ 1,  1,  1,  1],\n",
      "         [ 2,  2,  2,  2],\n",
      "         [ 3,  3,  3,  3]],\n",
      "\n",
      "        [[10, 10, 10, 10],\n",
      "         [20, 20, 20, 20],\n",
      "         [30, 30, 30, 30]]])\n",
      "\n",
      "Size: torch.Size([3, 8])\n",
      "Values: \n",
      "tensor([[ 1,  1,  1,  1,  2,  2,  2,  2],\n",
      "        [ 3,  3,  3,  3, 10, 10, 10, 10],\n",
      "        [20, 20, 20, 20, 30, 30, 30, 30]])\n",
      "\n",
      "Size: torch.Size([3, 2, 4])\n",
      "Values: \n",
      "tensor([[[ 1,  1,  1,  1],\n",
      "         [10, 10, 10, 10]],\n",
      "\n",
      "        [[ 2,  2,  2,  2],\n",
      "         [20, 20, 20, 20]],\n",
      "\n",
      "        [[ 3,  3,  3,  3],\n",
      "         [30, 30, 30, 30]]])\n",
      "\n",
      "Size: torch.Size([3, 8])\n",
      "Values: \n",
      "tensor([[ 1,  1,  1,  1, 10, 10, 10, 10],\n",
      "        [ 2,  2,  2,  2, 20, 20, 20, 20],\n",
      "        [ 3,  3,  3,  3, 30, 30, 30, 30]])\n"
     ]
    }
   ],
   "source": [
    "# 维度变化带来的问题 (不是故意的！)\n",
    "x = torch.tensor([\n",
    "    [[1,1,1,1], [2,2,2,2], [3,3,3,3]],\n",
    "    [[10,10,10,10], [20,20,20,20], [30,30,30,30]]\n",
    "])\n",
    "print(\"Size: {}\".format(x.shape)) \n",
    "print(\"Values: \\n{}\\n\".format(x))\n",
    "a = x.view(x.size(1), -1)\n",
    "print(\"Size: {}\".format(a.shape)) \n",
    "print(\"Values: \\n{}\\n\".format(a))\n",
    "b = x.transpose(0,1).contiguous()\n",
    "print(\"Size: {}\".format(b.shape)) \n",
    "print(\"Values: \\n{}\\n\".format(b))\n",
    "c = b.view(b.size(0), -1)\n",
    "print(\"Size: {}\".format(c.shape)) \n",
    "print(\"Values: \\n{}\".format(c))"
   ]
  },
  {
   "cell_type": "code",
   "execution_count": 16,
   "metadata": {
    "colab": {
     "base_uri": "https://localhost:8080/",
     "height": 136
    },
    "colab_type": "code",
    "id": "hRtG5LShMXew",
    "outputId": "b54e520a-8cd5-40a9-8b38-64919574dce0",
    "scrolled": false
   },
   "outputs": [
    {
     "name": "stdout",
     "output_type": "stream",
     "text": [
      "Values: \n",
      "tensor([[-0.3803, -1.5907,  1.3199],\n",
      "        [-0.4583,  1.3850,  0.5023]])\n",
      "Values: \n",
      "tensor([-0.8386, -0.2058,  1.8222])\n",
      "Values: \n",
      "tensor([-0.6512,  1.4290])\n"
     ]
    }
   ],
   "source": [
    "# 跨维度操作\n",
    "x = torch.randn(2, 3)\n",
    "print(\"Values: \\n{}\".format(x))\n",
    "y = torch.sum(x, dim=0) # 将每列的元素相加\n",
    "print(\"Values: \\n{}\".format(y))\n",
    "z = torch.sum(x, dim=1) # 将每行的元素相加\n",
    "print(\"Values: \\n{}\".format(z))"
   ]
  },
  {
   "cell_type": "markdown",
   "metadata": {
    "colab_type": "text",
    "id": "zI0ZV45PrYmw",
    "mdEditEnable": false
   },
   "source": [
    "## 索引，切片和聚合"
   ]
  },
  {
   "cell_type": "code",
   "execution_count": 17,
   "metadata": {
    "colab": {
     "base_uri": "https://localhost:8080/",
     "height": 153
    },
    "colab_type": "code",
    "id": "iM3UFrs0MXhL",
    "outputId": "bfcbbf13-d8a1-4fc1-f244-fd54068ca74b",
    "scrolled": false
   },
   "outputs": [
    {
     "name": "stdout",
     "output_type": "stream",
     "text": [
      "x: \n",
      "tensor([[ 0.4225, -0.1742, -0.2834, -0.6454],\n",
      "        [-0.1960,  0.1288,  0.5690,  1.0141],\n",
      "        [ 1.7995,  0.1046, -1.3350, -1.1939]])\n",
      "x[:1]: \n",
      "tensor([[ 0.4225, -0.1742, -0.2834, -0.6454]])\n",
      "x[:1, 1:3]: \n",
      "tensor([[-0.1742, -0.2834]])\n"
     ]
    }
   ],
   "source": [
    "x = torch.randn(3, 4)\n",
    "print(\"x: \\n{}\".format(x))\n",
    "print (\"x[:1]: \\n{}\".format(x[:1]))\n",
    "print (\"x[:1, 1:3]: \\n{}\".format(x[:1, 1:3]))"
   ]
  },
  {
   "cell_type": "code",
   "execution_count": 18,
   "metadata": {
    "colab": {
     "base_uri": "https://localhost:8080/",
     "height": 153
    },
    "colab_type": "code",
    "id": "_tbpwGxcMXj0",
    "outputId": "678e805f-f5ec-49fe-d8d6-0986a3c41672",
    "scrolled": false
   },
   "outputs": [
    {
     "name": "stdout",
     "output_type": "stream",
     "text": [
      "Values: \n",
      "tensor([[-1.9800, -0.2834,  1.2115],\n",
      "        [-1.1075,  1.3129, -1.2801]])\n",
      "Values: \n",
      "tensor([[-1.9800,  1.2115],\n",
      "        [-1.1075, -1.2801]])\n",
      "Values: \n",
      "tensor([-1.9800, -1.2801])\n"
     ]
    }
   ],
   "source": [
    "# 用对应维度的索引选取值\n",
    "x = torch.randn(2, 3)\n",
    "print(\"Values: \\n{}\".format(x))\n",
    "col_indices = torch.LongTensor([0, 2])\n",
    "chosen = torch.index_select(x, dim=1, index=col_indices) # 第0列和第2列的值\n",
    "print(\"Values: \\n{}\".format(chosen)) \n",
    "row_indices = torch.LongTensor([0, 1])\n",
    "chosen = x[row_indices, col_indices] # 在(0, 0) 和 (2, 1) 位置的值\n",
    "print(\"Values: \\n{}\".format(chosen)) "
   ]
  },
  {
   "cell_type": "code",
   "execution_count": 19,
   "metadata": {
    "colab": {
     "base_uri": "https://localhost:8080/",
     "height": 153
    },
    "colab_type": "code",
    "id": "tMeqSQtuMXmH",
    "outputId": "9fa99c82-78d9-41f8-d070-710cf1b045c7",
    "scrolled": false
   },
   "outputs": [
    {
     "name": "stdout",
     "output_type": "stream",
     "text": [
      "Values: \n",
      "tensor([[ 0.7719, -1.6711, -0.9333],\n",
      "        [ 0.8396,  1.1853, -1.2150]])\n",
      "Values: \n",
      "tensor([[ 0.7719, -1.6711, -0.9333],\n",
      "        [ 0.8396,  1.1853, -1.2150],\n",
      "        [ 0.7719, -1.6711, -0.9333],\n",
      "        [ 0.8396,  1.1853, -1.2150]])\n"
     ]
    }
   ],
   "source": [
    "# 拼接\n",
    "x = torch.randn(2, 3)\n",
    "print(\"Values: \\n{}\".format(x))\n",
    "y = torch.cat([x, x], dim=0) # 按行拼接 (设置dim=1 来按列拼接)\n",
    "print(\"Values: \\n{}\".format(y))"
   ]
  },
  {
   "cell_type": "markdown",
   "metadata": {
    "colab_type": "text",
    "id": "JqiDuIC-ByvO",
    "mdEditEnable": false
   },
   "source": [
    "## 梯度"
   ]
  },
  {
   "cell_type": "code",
   "execution_count": 20,
   "metadata": {
    "colab": {
     "base_uri": "https://localhost:8080/",
     "height": 153
    },
    "colab_type": "code",
    "id": "qxpGB7-VL7fs",
    "outputId": "a7964762-60d4-4e0e-bed2-b2d392804494"
   },
   "outputs": [
    {
     "name": "stdout",
     "output_type": "stream",
     "text": [
      "Values: \n",
      "tensor([[0.8597, 0.3117, 0.2789, 0.6162],\n",
      "        [0.7437, 0.0381, 0.0448, 0.1228],\n",
      "        [0.1114, 0.8298, 0.3585, 0.2013]], requires_grad=True)\n",
      "x.grad: \n",
      " tensor([[0.2500, 0.2500, 0.2500, 0.2500],\n",
      "        [0.2500, 0.2500, 0.2500, 0.2500],\n",
      "        [0.2500, 0.2500, 0.2500, 0.2500]])\n"
     ]
    }
   ],
   "source": [
    "# 带梯度的tensor\n",
    "x = torch.rand(3, 4, requires_grad=True)\n",
    "y = 3*x + 2\n",
    "z = y.mean()\n",
    "z.backward() # z 必须是标量\n",
    "print(\"Values: \\n{}\".format(x))\n",
    "print(\"x.grad: \\n\", x.grad)"
   ]
  },
  {
   "cell_type": "markdown",
   "metadata": {
    "colab_type": "text",
    "id": "uf7htaAMDcRV",
    "mdEditEnable": false
   },
   "source": [
    "* ~$y = 3x + 2~$\n",
    "* ~$y = \\sum{y}/N~$\n",
    "* ~$\\frac{\\partial(z)}{\\partial(x)} = \\frac{\\partial(z)}{\\partial(y)} \\frac{\\partial(y)}{\\partial(x)} = \\frac{1}{N} * 3 = \\frac{1}{12} * 3 = 0.25~$"
   ]
  },
  {
   "cell_type": "markdown",
   "metadata": {
    "colab_type": "text",
    "id": "VQtpZh1YD-kz",
    "mdEditEnable": false
   },
   "source": [
    "## 使用CUDA Tensor"
   ]
  },
  {
   "cell_type": "code",
   "execution_count": 21,
   "metadata": {
    "colab": {
     "base_uri": "https://localhost:8080/",
     "height": 34
    },
    "colab_type": "code",
    "id": "E_C3en05L7iT",
    "outputId": "01b0eddc-db28-4786-ae48-a1004c838186",
    "scrolled": false
   },
   "outputs": [
    {
     "name": "stdout",
     "output_type": "stream",
     "text": [
      "True\n"
     ]
    }
   ],
   "source": [
    "# 查看cuda是否可用, 需要有N卡\n",
    "print(torch.cuda.is_available())"
   ]
  },
  {
   "cell_type": "markdown",
   "metadata": {
    "colab_type": "text",
    "id": "za47KWEJ6en2",
    "mdEditEnable": false
   },
   "source": [
    "\n",
    "如果你使用的机器有可用于深度学习的已配置好的显卡。到 `Runtime` 选择 `Change runtime type`，并在 `Hardware accelerator` 下选择 `GPU`"
   ]
  },
  {
   "cell_type": "code",
   "execution_count": 22,
   "metadata": {
    "colab": {
     "base_uri": "https://localhost:8080/",
     "height": 34
    },
    "colab_type": "code",
    "id": "BY2DdN3j6ZxO",
    "outputId": "ec0ac0bd-461d-4b45-e131-cbf1d19c955b",
    "scrolled": false
   },
   "outputs": [
    {
     "name": "stdout",
     "output_type": "stream",
     "text": [
      "Type: torch.FloatTensor\n"
     ]
    }
   ],
   "source": [
    "# 创建0值tensor\n",
    "x = torch.Tensor(3, 4).to(\"cpu\")\n",
    "print(\"Type: {}\".format(x.type()))"
   ]
  },
  {
   "cell_type": "code",
   "execution_count": 23,
   "metadata": {
    "colab": {
     "base_uri": "https://localhost:8080/",
     "height": 34
    },
    "colab_type": "code",
    "id": "EcmdTggzEFPi",
    "outputId": "0e3326db-8d3d-40aa-accd-b31ab841b572",
    "scrolled": false
   },
   "outputs": [
    {
     "name": "stdout",
     "output_type": "stream",
     "text": [
      "Type: torch.cuda.FloatTensor\n"
     ]
    }
   ],
   "source": [
    "# 创建0值tensor\n",
    "x = torch.Tensor(3, 4).to(\"cuda\")\n",
    "print(\"Type: {}\".format(x.type()))"
   ]
  },
  {
   "cell_type": "code",
   "execution_count": null,
   "metadata": {
    "id": "E4BEA95D22394BDA845EE876B1259FF4"
   },
   "outputs": [],
   "source": []
  }
 ],
 "metadata": {
  "kernelspec": {
   "display_name": "Python 3",
   "language": "python",
   "name": "python3"
  },
  "language_info": {
   "codemirror_mode": {
    "name": "ipython",
    "version": 3
   },
   "file_extension": ".py",
   "mimetype": "text/x-python",
   "name": "python",
   "nbconvert_exporter": "python",
   "pygments_lexer": "ipython3",
   "version": "3.7.1"
  }
 },
 "nbformat": 4,
 "nbformat_minor": 1
}
